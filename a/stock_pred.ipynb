{
 "cells": [
  {
   "cell_type": "code",
   "execution_count": 40,
   "metadata": {},
   "outputs": [],
   "source": [
    "import pandas as pd"
   ]
  },
  {
   "cell_type": "code",
   "execution_count": 41,
   "metadata": {},
   "outputs": [
    {
     "name": "stdout",
     "output_type": "stream",
     "text": [
      "         Date        Open        High         Low       Close   Adj Close  \\\n",
      "0  2018-01-30  114.974159  116.363655  113.067001  115.137627  113.471878   \n",
      "1  2018-01-31  114.402016  119.197144  113.966095  116.172943  114.492218   \n",
      "2  2018-02-01  116.063957  118.270813  110.996384  116.608864  114.921837   \n",
      "3  2018-02-02  116.063957  116.063957  106.310226  107.454521  105.899933   \n",
      "4  2018-02-05  100.861214  109.525146  100.098358  108.680550  107.108215   \n",
      "\n",
      "     Volume  \n",
      "0   7873404  \n",
      "1  14190496  \n",
      "2   9002862  \n",
      "3  12747646  \n",
      "4  11825552  \n"
     ]
    }
   ],
   "source": [
    "df = pd.read_csv('ADANIENT_NS.csv')\n",
    "print(df.head())"
   ]
  },
  {
   "cell_type": "code",
   "execution_count": null,
   "metadata": {},
   "outputs": [],
   "source": []
  },
  {
   "cell_type": "code",
   "execution_count": 42,
   "metadata": {},
   "outputs": [
    {
     "data": {
      "text/plain": [
       "(1235, 7)"
      ]
     },
     "execution_count": 42,
     "metadata": {},
     "output_type": "execute_result"
    }
   ],
   "source": [
    "df.shape"
   ]
  },
  {
   "cell_type": "code",
   "execution_count": 43,
   "metadata": {},
   "outputs": [
    {
     "name": "stdout",
     "output_type": "stream",
     "text": [
      "<class 'pandas.core.frame.DataFrame'>\n",
      "RangeIndex: 1235 entries, 0 to 1234\n",
      "Data columns (total 7 columns):\n",
      " #   Column     Non-Null Count  Dtype  \n",
      "---  ------     --------------  -----  \n",
      " 0   Date       1235 non-null   object \n",
      " 1   Open       1235 non-null   float64\n",
      " 2   High       1235 non-null   float64\n",
      " 3   Low        1235 non-null   float64\n",
      " 4   Close      1235 non-null   float64\n",
      " 5   Adj Close  1235 non-null   float64\n",
      " 6   Volume     1235 non-null   int64  \n",
      "dtypes: float64(5), int64(1), object(1)\n",
      "memory usage: 67.7+ KB\n"
     ]
    }
   ],
   "source": [
    "df.info()"
   ]
  },
  {
   "cell_type": "code",
   "execution_count": 44,
   "metadata": {},
   "outputs": [
    {
     "data": {
      "text/plain": [
       "Date         0\n",
       "Open         0\n",
       "High         0\n",
       "Low          0\n",
       "Close        0\n",
       "Adj Close    0\n",
       "Volume       0\n",
       "dtype: int64"
      ]
     },
     "execution_count": 44,
     "metadata": {},
     "output_type": "execute_result"
    }
   ],
   "source": [
    "df.isnull().sum()"
   ]
  },
  {
   "cell_type": "code",
   "execution_count": 45,
   "metadata": {},
   "outputs": [],
   "source": [
    "df['Date'] = df['Date'].str.replace('-', '')"
   ]
  },
  {
   "cell_type": "code",
   "execution_count": 46,
   "metadata": {},
   "outputs": [
    {
     "name": "stdout",
     "output_type": "stream",
     "text": [
      "       Date        Open        High         Low   Adj Close    Volume\n",
      "0  20180130  114.974159  116.363655  113.067001  113.471878   7873404\n",
      "1  20180131  114.402016  119.197144  113.966095  114.492218  14190496\n",
      "2  20180201  116.063957  118.270813  110.996384  114.921837   9002862\n",
      "3  20180202  116.063957  116.063957  106.310226  105.899933  12747646\n",
      "4  20180205  100.861214  109.525146  100.098358  107.108215  11825552\n",
      "0    115.137627\n",
      "1    116.172943\n",
      "2    116.608864\n",
      "3    107.454521\n",
      "4    108.680550\n",
      "Name: Close, dtype: float64\n"
     ]
    }
   ],
   "source": [
    "x = df.drop(columns=['Close'], axis=1)\n",
    "y = df['Close']\n",
    "\n",
    "print(x.head())\n",
    "print(y.head())"
   ]
  },
  {
   "cell_type": "code",
   "execution_count": 47,
   "metadata": {},
   "outputs": [
    {
     "name": "stdout",
     "output_type": "stream",
     "text": [
      "(1235, 6) (988, 6) (247, 6)\n"
     ]
    }
   ],
   "source": [
    "# !pip install scikit-learn\n",
    "from sklearn.model_selection import train_test_split\n",
    "\n",
    "x_train, x_test, y_train, y_test = train_test_split(x, y, test_size=0.2, random_state=42)\n",
    "print(x.shape, x_train.shape, x_test.shape)"
   ]
  },
  {
   "cell_type": "code",
   "execution_count": 78,
   "metadata": {},
   "outputs": [
    {
     "name": "stdout",
     "output_type": "stream",
     "text": [
      "Epoch 1/10\n",
      "39/39 [==============================] - 0s 1ms/step - loss: 37634969600.0000\n",
      "Epoch 2/10\n",
      "39/39 [==============================] - 0s 1ms/step - loss: 595303680.0000\n",
      "Epoch 3/10\n",
      "39/39 [==============================] - 0s 1ms/step - loss: 11075271.0000\n",
      "Epoch 4/10\n",
      "39/39 [==============================] - 0s 1ms/step - loss: 1588959.0000\n",
      "Epoch 5/10\n",
      "39/39 [==============================] - 0s 1ms/step - loss: 1536183.5000\n",
      "Epoch 6/10\n",
      "39/39 [==============================] - 0s 2ms/step - loss: 1731864.7500\n",
      "Epoch 7/10\n",
      "39/39 [==============================] - 0s 1ms/step - loss: 1665553.2500\n",
      "Epoch 8/10\n",
      "39/39 [==============================] - 0s 1ms/step - loss: 1580415.1250\n",
      "Epoch 9/10\n",
      "39/39 [==============================] - 0s 1ms/step - loss: 1470429.2500\n",
      "Epoch 10/10\n",
      "39/39 [==============================] - 0s 2ms/step - loss: 1630841.0000\n",
      "39/39 [==============================] - 0s 813us/step\n",
      "1235\n"
     ]
    }
   ],
   "source": [
    "from sklearn.ensemble import RandomForestRegressor\n",
    "from sklearn.metrics import mean_squared_error\n",
    "from sklearn.metrics import accuracy_score\n",
    "import numpy as np\n",
    "\n",
    "df = pd.read_csv('ADANIENT_NS.csv')\n",
    "df['Date'] = df['Date'].str.replace('-', '')\n",
    "df.to_csv('ADANIENT_NS_1.csv')\n",
    "\n",
    "df2 = np.loadtxt('ADANIENT_NS_1.csv', delimiter=',', skiprows=1)\n",
    "# print(df2)\n",
    "\n",
    "X = df2[:, :-1]  # select all rows and columns except the last one\n",
    "y = df2[:, -3]   # select the last column (the label)\n",
    "\n",
    "features = [0, 1, 2, 4, 5]  # select the features you want to use\n",
    "\n",
    "# model = RandomForestRegressor()\n",
    "# model.fit(X[:, features], y)\n",
    "\n",
    "# y_pred = model.predict(X[:, features])\n",
    "# error = mean_squared_error(y, y_pred)\n",
    "# print('Mean Squared Error:', error)\n",
    "\n",
    "# predictions = model.predict(X[:, features])\n",
    "# print(predictions[0])\n",
    "##############################################################################\n",
    "import tensorflow as tf\n",
    "\n",
    "# Define the model's structure\n",
    "model = tf.keras.Sequential()\n",
    "model.add(tf.keras.layers.Dense(units=64, activation='relu', input_shape=(len(features),)))\n",
    "model.add(tf.keras.layers.Dense(units=32, activation='relu'))\n",
    "model.add(tf.keras.layers.Dense(units=1, activation='linear'))\n",
    "\n",
    "# Compiling the model\n",
    "model.compile(loss='mean_squared_error', optimizer='adam')\n",
    "\n",
    "# Training the model\n",
    "model.fit(X[:, features], y, epochs=10)\n",
    "\n",
    "# Making predictions\n",
    "predictions = model.predict(X[:, features])\n",
    "print(len(predictions))"
   ]
  },
  {
   "cell_type": "code",
   "execution_count": null,
   "metadata": {},
   "outputs": [],
   "source": []
  },
  {
   "cell_type": "code",
   "execution_count": null,
   "metadata": {},
   "outputs": [],
   "source": [
    "# from sklearn.metrics import accuracy_score\n",
    "\n",
    "# x_train_pred = model.predict(x_train)\n",
    "# accuracy = accuracy_score(x_train_pred, y_train)\n",
    "# print('Accuracy: ', accuracy)"
   ]
  },
  {
   "cell_type": "code",
   "execution_count": null,
   "metadata": {},
   "outputs": [],
   "source": []
  }
 ],
 "metadata": {
  "kernelspec": {
   "display_name": "env",
   "language": "python",
   "name": "python3"
  },
  "language_info": {
   "codemirror_mode": {
    "name": "ipython",
    "version": 3
   },
   "file_extension": ".py",
   "mimetype": "text/x-python",
   "name": "python",
   "nbconvert_exporter": "python",
   "pygments_lexer": "ipython3",
   "version": "3.10.6 (main, Nov 14 2022, 16:10:14) [GCC 11.3.0]"
  },
  "orig_nbformat": 4,
  "vscode": {
   "interpreter": {
    "hash": "5cd3c555ebb603517f27926eddeaba6ec038009ea195cca01d2432e489857b12"
   }
  }
 },
 "nbformat": 4,
 "nbformat_minor": 2
}
