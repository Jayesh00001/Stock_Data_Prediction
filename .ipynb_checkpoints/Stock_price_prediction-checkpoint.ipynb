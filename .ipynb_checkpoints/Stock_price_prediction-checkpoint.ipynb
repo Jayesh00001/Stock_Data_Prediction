{
 "cells": [
  {
   "cell_type": "code",
   "execution_count": 5,
   "id": "8274de09",
   "metadata": {},
   "outputs": [],
   "source": [
    "import os\n",
    "import numpy as np\n",
    "import pandas as pd\n",
    "import matplotlib.pyplot as plt\n",
    "%matplotlib inline"
   ]
  },
  {
   "cell_type": "code",
   "execution_count": null,
   "id": "d1250222",
   "metadata": {},
   "outputs": [],
   "source": []
  },
  {
   "cell_type": "code",
   "execution_count": 6,
   "id": "ed230f46",
   "metadata": {},
   "outputs": [
    {
     "name": "stdout",
     "output_type": "stream",
     "text": [
      "         Date        Open        High         Low       Close   Adj Close  \\\n",
      "0  2018-01-30  114.974159  116.363655  113.067001  115.137627  113.471878   \n",
      "1  2018-01-31  114.402016  119.197144  113.966095  116.172943  114.492218   \n",
      "2  2018-02-01  116.063957  118.270813  110.996384  116.608864  114.921837   \n",
      "3  2018-02-02  116.063957  116.063957  106.310226  107.454521  105.899933   \n",
      "4  2018-02-05  100.861214  109.525146  100.098358  108.680550  107.108215   \n",
      "\n",
      "     Volume  \n",
      "0   7873404  \n",
      "1  14190496  \n",
      "2   9002862  \n",
      "3  12747646  \n",
      "4  11825552  \n"
     ]
    }
   ],
   "source": [
    "dataset = pd.read_csv('ADANIENT_NS.csv')\n",
    "print(dataset.head())"
   ]
  },
  {
   "cell_type": "code",
   "execution_count": null,
   "id": "b0e07347",
   "metadata": {},
   "outputs": [],
   "source": []
  },
  {
   "cell_type": "code",
   "execution_count": 3,
   "id": "b3e724b3",
   "metadata": {},
   "outputs": [
    {
     "data": {
      "text/plain": [
       "(1235, 7)"
      ]
     },
     "execution_count": 3,
     "metadata": {},
     "output_type": "execute_result"
    }
   ],
   "source": [
    "dataset.shape"
   ]
  },
  {
   "cell_type": "code",
   "execution_count": null,
   "id": "d49c8381",
   "metadata": {},
   "outputs": [],
   "source": []
  },
  {
   "cell_type": "code",
   "execution_count": 10,
   "id": "80832f62",
   "metadata": {},
   "outputs": [
    {
     "name": "stdout",
     "output_type": "stream",
     "text": [
      "<class 'pandas.core.frame.DataFrame'>\n",
      "RangeIndex: 1235 entries, 0 to 1234\n",
      "Data columns (total 7 columns):\n",
      " #   Column     Non-Null Count  Dtype  \n",
      "---  ------     --------------  -----  \n",
      " 0   Date       1235 non-null   object \n",
      " 1   Open       1235 non-null   float64\n",
      " 2   High       1235 non-null   float64\n",
      " 3   Low        1235 non-null   float64\n",
      " 4   Close      1235 non-null   float64\n",
      " 5   Adj Close  1235 non-null   float64\n",
      " 6   Volume     1235 non-null   int64  \n",
      "dtypes: float64(5), int64(1), object(1)\n",
      "memory usage: 67.7+ KB\n"
     ]
    }
   ],
   "source": [
    "dataset.info()"
   ]
  },
  {
   "cell_type": "code",
   "execution_count": null,
   "id": "263fdf47",
   "metadata": {},
   "outputs": [],
   "source": []
  },
  {
   "cell_type": "code",
   "execution_count": 11,
   "id": "a526885d",
   "metadata": {},
   "outputs": [
    {
     "data": {
      "text/plain": [
       "Date         0\n",
       "Open         0\n",
       "High         0\n",
       "Low          0\n",
       "Close        0\n",
       "Adj Close    0\n",
       "Volume       0\n",
       "dtype: int64"
      ]
     },
     "execution_count": 11,
     "metadata": {},
     "output_type": "execute_result"
    }
   ],
   "source": [
    "dataset.isnull().sum()"
   ]
  },
  {
   "cell_type": "code",
   "execution_count": null,
   "id": "4ec4ac89",
   "metadata": {},
   "outputs": [],
   "source": []
  },
  {
   "cell_type": "code",
   "execution_count": 9,
   "id": "861eafd8",
   "metadata": {},
   "outputs": [
    {
     "name": "stdout",
     "output_type": "stream",
     "text": [
      "[[ 114.974159]\n",
      " [ 114.402016]\n",
      " [ 116.063957]\n",
      " ...\n",
      " [3447.449951]\n",
      " [3422.      ]\n",
      " [3335.      ]]\n",
      "\n",
      " (1235, 1)\n"
     ]
    }
   ],
   "source": [
    "training_set = dataset.iloc[:, 1:2].values # \"Open\" Column\n",
    "\n",
    "print(training_set)\n",
    "print('\\n', training_set.shape)"
   ]
  },
  {
   "cell_type": "code",
   "execution_count": null,
   "id": "743000de",
   "metadata": {},
   "outputs": [],
   "source": []
  },
  {
   "cell_type": "code",
   "execution_count": 12,
   "id": "cef631f0",
   "metadata": {},
   "outputs": [
    {
     "name": "stdout",
     "output_type": "stream",
     "text": [
      "[[0.0116509 ]\n",
      " [0.01151162]\n",
      " [0.0119162 ]\n",
      " ...\n",
      " [0.82288944]\n",
      " [0.81669406]\n",
      " [0.79551528]]\n"
     ]
    }
   ],
   "source": [
    "from sklearn.preprocessing import MinMaxScaler\n",
    "\n",
    "scaler = MinMaxScaler(feature_range = (0, 1))\n",
    "scaled_training_set = scaler.fit_transform(training_set)\n",
    "print(scaled_training_set)"
   ]
  },
  {
   "cell_type": "code",
   "execution_count": null,
   "id": "5535b50a",
   "metadata": {},
   "outputs": [],
   "source": []
  },
  {
   "cell_type": "code",
   "execution_count": 13,
   "id": "e9f34cc5",
   "metadata": {},
   "outputs": [
    {
     "name": "stdout",
     "output_type": "stream",
     "text": [
      "(1175, 60) (1175,)\n"
     ]
    }
   ],
   "source": [
    "x_train = []\n",
    "y_train = []\n",
    "\n",
    "for i in range(60, 1235):\n",
    "    x = scaled_training_set[i-60:i, 0]\n",
    "    x_train.append(x)\n",
    "    \n",
    "    y = scaled_training_set[i, 0]\n",
    "    y_train.append(y)\n",
    "\n",
    "x_train = np.array(x_train)\n",
    "y_train = np.array(y_train)\n",
    "\n",
    "print(x_train.shape, y_train.shape)"
   ]
  },
  {
   "cell_type": "code",
   "execution_count": null,
   "id": "9fc0feda",
   "metadata": {},
   "outputs": [],
   "source": []
  },
  {
   "cell_type": "code",
   "execution_count": 15,
   "id": "13ce9049",
   "metadata": {},
   "outputs": [
    {
     "name": "stdout",
     "output_type": "stream",
     "text": [
      "(1175, 60, 1)\n"
     ]
    }
   ],
   "source": [
    "x_train = np.reshape(x_train, (x_train.shape[0], x_train.shape[1], 1))\n",
    "print(x_train.shape)"
   ]
  },
  {
   "cell_type": "code",
   "execution_count": 22,
   "id": "5dbd8759",
   "metadata": {
    "collapsed": true
   },
   "outputs": [
    {
     "name": "stdout",
     "output_type": "stream",
     "text": [
      "\u001b[31mERROR: Exception:\r\n",
      "Traceback (most recent call last):\r\n",
      "  File \"/home/hp/anaconda3/lib/python3.9/site-packages/pip/_internal/cli/base_command.py\", line 167, in exc_logging_wrapper\r\n",
      "    status = run_func(*args)\r\n",
      "  File \"/home/hp/anaconda3/lib/python3.9/site-packages/pip/_internal/cli/req_command.py\", line 247, in wrapper\r\n",
      "    return func(self, options, args)\r\n",
      "  File \"/home/hp/anaconda3/lib/python3.9/site-packages/pip/_internal/commands/install.py\", line 315, in run\r\n",
      "    session = self.get_default_session(options)\r\n",
      "  File \"/home/hp/anaconda3/lib/python3.9/site-packages/pip/_internal/cli/req_command.py\", line 98, in get_default_session\r\n",
      "    self._session = self.enter_context(self._build_session(options))\r\n",
      "  File \"/home/hp/anaconda3/lib/python3.9/site-packages/pip/_internal/cli/req_command.py\", line 125, in _build_session\r\n",
      "    session = PipSession(\r\n",
      "  File \"/home/hp/anaconda3/lib/python3.9/site-packages/pip/_internal/network/session.py\", line 343, in __init__\r\n",
      "    self.headers[\"User-Agent\"] = user_agent()\r\n",
      "  File \"/home/hp/anaconda3/lib/python3.9/site-packages/pip/_internal/network/session.py\", line 175, in user_agent\r\n",
      "    setuptools_dist = get_default_environment().get_distribution(\"setuptools\")\r\n",
      "  File \"/home/hp/anaconda3/lib/python3.9/site-packages/pip/_internal/metadata/__init__.py\", line 75, in get_default_environment\r\n",
      "    return select_backend().Environment.default()\r\n",
      "  File \"/home/hp/anaconda3/lib/python3.9/site-packages/pip/_internal/metadata/__init__.py\", line 63, in select_backend\r\n",
      "    from . import pkg_resources\r\n",
      "  File \"/home/hp/anaconda3/lib/python3.9/site-packages/pip/_internal/metadata/pkg_resources.py\", line 8, in <module>\r\n",
      "    from pip._vendor import pkg_resources\r\n",
      "  File \"/home/hp/anaconda3/lib/python3.9/site-packages/pip/_vendor/pkg_resources/__init__.py\", line 3252, in <module>\r\n",
      "    def _initialize_master_working_set():\r\n",
      "  File \"/home/hp/anaconda3/lib/python3.9/site-packages/pip/_vendor/pkg_resources/__init__.py\", line 3235, in _call_aside\r\n",
      "    f(*args, **kwargs)\r\n",
      "  File \"/home/hp/anaconda3/lib/python3.9/site-packages/pip/_vendor/pkg_resources/__init__.py\", line 3277, in _initialize_master_working_set\r\n",
      "    tuple(\r\n",
      "  File \"/home/hp/anaconda3/lib/python3.9/site-packages/pip/_vendor/pkg_resources/__init__.py\", line 3278, in <genexpr>\r\n",
      "    dist.activate(replace=False)\r\n",
      "  File \"/home/hp/anaconda3/lib/python3.9/site-packages/pip/_vendor/pkg_resources/__init__.py\", line 2785, in activate\r\n",
      "    declare_namespace(pkg)\r\n",
      "  File \"/home/hp/anaconda3/lib/python3.9/site-packages/pip/_vendor/pkg_resources/__init__.py\", line 2284, in declare_namespace\r\n",
      "    _handle_ns(packageName, path_item)\r\n",
      "  File \"/home/hp/anaconda3/lib/python3.9/site-packages/pip/_vendor/pkg_resources/__init__.py\", line 2217, in _handle_ns\r\n",
      "    loader.load_module(packageName)\r\n",
      "  File \"/home/hp/anaconda3/lib/python3.9/site-packages/pygoogle/google.py\", line 113\r\n",
      "    print \"\"\"PyGoogle %(__version__)s\r\n",
      "          ^\r\n",
      "SyntaxError: invalid syntax\u001b[0m\u001b[31m\r\n",
      "\u001b[0m"
     ]
    }
   ],
   "source": [
    "# !pip install keras tensorflow"
   ]
  },
  {
   "cell_type": "code",
   "execution_count": 23,
   "id": "b185793e",
   "metadata": {},
   "outputs": [
    {
     "ename": "SyntaxError",
     "evalue": "invalid syntax (google.py, line 113)",
     "output_type": "error",
     "traceback": [
      "Traceback \u001b[0;36m(most recent call last)\u001b[0m:\n",
      "  File \u001b[1;32m\"/home/hp/anaconda3/lib/python3.9/site-packages/IPython/core/interactiveshell.py\"\u001b[0m, line \u001b[1;32m3457\u001b[0m, in \u001b[1;35mrun_code\u001b[0m\n    exec(code_obj, self.user_global_ns, self.user_ns)\n",
      "  File \u001b[1;32m\"/tmp/ipykernel_15363/998940878.py\"\u001b[0m, line \u001b[1;32m1\u001b[0m, in \u001b[1;35m<module>\u001b[0m\n    from keras.models import Sequential\n",
      "  File \u001b[1;32m\"/home/hp/anaconda3/lib/python3.9/site-packages/keras/__init__.py\"\u001b[0m, line \u001b[1;32m21\u001b[0m, in \u001b[1;35m<module>\u001b[0m\n    from keras import models\n",
      "  File \u001b[1;32m\"/home/hp/anaconda3/lib/python3.9/site-packages/keras/models/__init__.py\"\u001b[0m, line \u001b[1;32m18\u001b[0m, in \u001b[1;35m<module>\u001b[0m\n    from keras.engine.functional import Functional\n",
      "  File \u001b[1;32m\"/home/hp/anaconda3/lib/python3.9/site-packages/keras/engine/functional.py\"\u001b[0m, line \u001b[1;32m24\u001b[0m, in \u001b[1;35m<module>\u001b[0m\n    import tensorflow.compat.v2 as tf\n",
      "  File \u001b[1;32m\"/home/hp/anaconda3/lib/python3.9/site-packages/tensorflow/__init__.py\"\u001b[0m, line \u001b[1;32m37\u001b[0m, in \u001b[1;35m<module>\u001b[0m\n    from tensorflow.python.tools import module_util as _module_util\n",
      "  File \u001b[1;32m\"/home/hp/anaconda3/lib/python3.9/site-packages/tensorflow/python/__init__.py\"\u001b[0m, line \u001b[1;32m37\u001b[0m, in \u001b[1;35m<module>\u001b[0m\n    from tensorflow.python.eager import context\n",
      "  File \u001b[1;32m\"/home/hp/anaconda3/lib/python3.9/site-packages/tensorflow/python/eager/context.py\"\u001b[0m, line \u001b[1;32m28\u001b[0m, in \u001b[1;35m<module>\u001b[0m\n    from tensorflow.core.framework import function_pb2\n",
      "\u001b[0;36m  File \u001b[0;32m\"/home/hp/anaconda3/lib/python3.9/site-packages/tensorflow/core/framework/function_pb2.py\"\u001b[0;36m, line \u001b[0;32m7\u001b[0;36m, in \u001b[0;35m<module>\u001b[0;36m\u001b[0m\n\u001b[0;31m    from google.protobuf import descriptor as _descriptor\u001b[0m\n",
      "\u001b[0;36m  File \u001b[0;32m\"/home/hp/anaconda3/lib/python3.9/site-packages/pygoogle/google.py\"\u001b[0;36m, line \u001b[0;32m113\u001b[0m\n\u001b[0;31m    print \"\"\"PyGoogle %(__version__)s\u001b[0m\n\u001b[0m          ^\u001b[0m\n\u001b[0;31mSyntaxError\u001b[0m\u001b[0;31m:\u001b[0m invalid syntax\n"
     ]
    }
   ],
   "source": [
    "from keras.models import Sequential\n",
    "from keras.layers import LSTM, Dense, Dropout"
   ]
  }
 ],
 "metadata": {
  "kernelspec": {
   "display_name": "Python 3 (ipykernel)",
   "language": "python",
   "name": "python3"
  },
  "language_info": {
   "codemirror_mode": {
    "name": "ipython",
    "version": 3
   },
   "file_extension": ".py",
   "mimetype": "text/x-python",
   "name": "python",
   "nbconvert_exporter": "python",
   "pygments_lexer": "ipython3",
   "version": "3.9.13"
  }
 },
 "nbformat": 4,
 "nbformat_minor": 5
}
